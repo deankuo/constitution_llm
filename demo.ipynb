{
 "cells": [
  {
   "cell_type": "markdown",
   "id": "92b73668",
   "metadata": {},
   "source": [
    "# Setup"
   ]
  },
  {
   "cell_type": "code",
   "execution_count": 1,
   "id": "557b3ffe",
   "metadata": {},
   "outputs": [
    {
     "data": {
      "text/plain": [
       "True"
      ]
     },
     "execution_count": 1,
     "metadata": {},
     "output_type": "execute_result"
    }
   ],
   "source": [
    "import pandas as pd\n",
    "import re\n",
    "from openai import OpenAI\n",
    "import argparse\n",
    "import time\n",
    "from datetime import datetime\n",
    "from typing import Dict, List, Tuple\n",
    "import os\n",
    "from dotenv import load_dotenv\n",
    "\n",
    "# Load environment variables from .env file\n",
    "load_dotenv()"
   ]
  },
  {
   "cell_type": "code",
   "execution_count": 2,
   "id": "aae31ca7",
   "metadata": {},
   "outputs": [
    {
     "name": "stdout",
     "output_type": "stream",
     "text": [
      "<class 'pandas.core.frame.DataFrame'>\n",
      "RangeIndex: 1449764 entries, 0 to 1449763\n",
      "Data columns (total 27 columns):\n",
      " #   Column                    Non-Null Count    Dtype   \n",
      "---  ------                    --------------    -----   \n",
      " 0   territorynamehistorical   1449764 non-null  object  \n",
      " 1   year                      1449764 non-null  float32 \n",
      " 2   cont_id                   1448219 non-null  float64 \n",
      " 3   discont_id                937013 non-null   float64 \n",
      " 4   territorynamepermanent    1449764 non-null  object  \n",
      " 5   hereditary_Lee            1380029 non-null  float32 \n",
      " 6   colony_new3_standardized  1439888 non-null  float32 \n",
      " 7   parliament_50_dummy       1366499 non-null  float32 \n",
      " 8   territory_id              870356 non-null   float32 \n",
      " 9   fake_id                   911783 non-null   float32 \n",
      " 10  discont_id_temp_num       933966 non-null   float64 \n",
      " 11  truhart_id_modified       1449764 non-null  object  \n",
      " 12  region_broad_num          925683 non-null   category\n",
      " 13  century                   936984 non-null   float32 \n",
      " 14  entity_status_truhart     1449764 non-null  object  \n",
      " 15  pop_total                 370706 non-null   float64 \n",
      " 16  pop_urban                 370706 non-null   float64 \n",
      " 17  shape_length              384439 non-null   float64 \n",
      " 18  shape_area                384439 non-null   float64 \n",
      " 19  caloric_yield_mean        372561 non-null   float64 \n",
      " 20  area                      384439 non-null   float64 \n",
      " 21  equator_distkm            384439 non-null   float64 \n",
      " 22  multi_leader_ord          962188 non-null   float32 \n",
      " 23  caloric_yield_sum         356746 non-null   float64 \n",
      " 24  rugged_mean               352797 non-null   float64 \n",
      " 25  regime                    1449764 non-null  object  \n",
      " 26  regime_type               1449764 non-null  object  \n",
      "dtypes: category(1), float32(8), float64(12), object(6)\n",
      "memory usage: 244.7+ MB\n"
     ]
    }
   ],
   "source": [
    "data = pd.read_stata('./Dataset/Polity_dataset_1.dta')\n",
    "data.info()"
   ]
  },
  {
   "cell_type": "markdown",
   "id": "ca3ac6d6",
   "metadata": {},
   "source": [
    "# Demo"
   ]
  },
  {
   "cell_type": "code",
   "execution_count": null,
   "id": "0a8750d7",
   "metadata": {},
   "outputs": [],
   "source": [
    "# Python script\n",
    "!python3 main.py --test 10"
   ]
  },
  {
   "cell_type": "code",
   "execution_count": null,
   "id": "07363702",
   "metadata": {},
   "outputs": [],
   "source": [
    "# Shell script\n",
    "!bash run.sh --test 10"
   ]
  },
  {
   "cell_type": "markdown",
   "id": "efe4bf6a",
   "metadata": {},
   "source": [
    "# Result "
   ]
  },
  {
   "cell_type": "code",
   "execution_count": 3,
   "id": "96383dcc",
   "metadata": {},
   "outputs": [
    {
     "data": {
      "application/vnd.microsoft.datawrangler.viewer.v0+json": {
       "columns": [
        {
         "name": "index",
         "rawType": "int64",
         "type": "integer"
        },
        {
         "name": "territorynamehistorical",
         "rawType": "object",
         "type": "unknown"
        },
        {
         "name": "start_year",
         "rawType": "int64",
         "type": "integer"
        },
        {
         "name": "end_year",
         "rawType": "int64",
         "type": "integer"
        },
        {
         "name": "constitution_gpt_4_1_nano",
         "rawType": "int64",
         "type": "integer"
        },
        {
         "name": "constitution_name_gpt_4_1_nano",
         "rawType": "object",
         "type": "unknown"
        },
        {
         "name": "explanation_gpt_4_1_nano",
         "rawType": "object",
         "type": "string"
        }
       ],
       "ref": "b351225e-0754-4415-937a-25c470e00f18",
       "rows": [
        [
         "0",
         null,
         "-2490",
         "2019",
         "0",
         null,
         "The given period begins in 2490 BCE, well before the development of formal written constitutions, which generally emerged in the classical and modern eras. Throughout ancient history, governance was typically based on customary laws, royal decrees, or unwritten traditions rather than codified constitutions. Since the period extends to 2019 CE, it encompasses numerous modern states that have adopted constitutions, but the starting point predates the existence of any formal constitutional document. Therefore, during the entire period, there was no formal, codified constitution in place."
        ],
        [
         "1",
         "!aman (bethany)",
         "1804",
         "2018",
         "0",
         null,
         "Bethany (or !aman) was a biblical city-state and not a sovereign political entity with a formal, codified constitution during its historical period. Throughout its existence from 1804 to 2018, there is no record of it having a written constitution or a formal set of governing rules that define its political structure."
        ],
        [
         "2",
         "!gami-nun ('bondelswarts')",
         "1869",
         "1977",
         "0",
         null,
         "The Bondelswarts, a Nama-speaking indigenous group in what is now Namibia, did not have a formal, codified constitution during their period of existence from 1869 to 1977. Their governance was based on customary laws and traditional leadership structures rather than a written constitutional framework."
        ],
        [
         "3",
         "'uvea",
         "1400",
         "1660",
         "0",
         null,
         "During the period from 1400 to 1660, Uvea (also known as Wallis Island) was primarily governed through customary laws and traditional authority structures rather than a formal written constitution. There is no historical record of a codified constitution or legal document establishing a constitutional framework during this time."
        ],
        [
         "4",
         "(medieval) ghana",
         "1040",
         "1234",
         "0",
         null,
         "During the medieval period, the Ghana Empire (c. 1040–1234) was governed by customary laws, oral traditions, and royal decrees rather than a formal written constitution. There is no evidence of a codified set of constitutional rules or a formal document establishing governance structures during this period."
        ],
        [
         "5",
         "`alawi",
         "1800",
         "1967",
         "0",
         null,
         "The Alawi Sultanate, which existed from 1800 to 1967, did not have a formal written constitution during its entire period of existence. Its governance was based on traditional Islamic and monarchical principles, with the sultan holding significant authority. While there were legal codes and decrees, these did not constitute a codified constitution that set out the fundamental rules of governance, rights, and institutional structure in a constitutional manner."
        ],
        [
         "6",
         "`aqrabi (akrabi)",
         "1770",
         "1967",
         "0",
         null,
         "There is no historical record of a formal, written constitution or constitutional framework for the polity known as aqrabi (akrabi) during the period from 1770 to 1967. The region's governance was typically based on customary laws, local rulers, or informal agreements rather than a codified constitution."
        ],
        [
         "7",
         "`awdhali (audhali)",
         "1750",
         "1967",
         "0",
         null,
         "There is no historical record of a formal, written constitution or codified set of governing rules for the polity known as \"awdhali (audhali)\" during the period from 1750 to 1967. The governance structures in this region during this time were typically based on customary laws, local rulers' edicts, or informal agreements rather than a formal constitution."
        ],
        [
         "8",
         "a ad parthia a man anxi",
         "-127",
         "228",
         "0",
         null,
         "The polity referred to as \"a ad parthia a man anxi\" appears to correspond to the Parthian Empire, which existed from approximately 247 BCE to 224 CE. During this period, there was no single, codified constitution akin to modern constitutional documents. The governance was based on a mixture of royal decrees, traditional laws, and a semi-feudal aristocratic structure, but no formal, written constitution setting out the fundamental rules of governance. Therefore, during the specified period (-127 to 228), no constitution existed."
        ],
        [
         "9",
         "a bamra",
         "1861",
         "1945",
         "0",
         null,
         "There is no historical record indicating that \"a bamra\" had a formal written constitution during its existence from 1861 to 1945. The term \"a bamra\" does not correspond to a recognized state or polity with a constitutional framework in this period. Therefore, it is unlikely that a constitution, as defined by a set of governing rules codified in a formal document, existed for this entity."
        ],
        [
         "10",
         "a cera kongu",
         "800",
         "1102",
         "0",
         null,
         "There is no historical record of a formal written constitution or codified set of governing rules for the polity known as \"a cera kongu\" during the period 800-1102. Given the time frame, governance was likely based on customary laws, oral traditions, and local rulers' decrees rather than a formal constitution."
        ],
        [
         "11",
         "a dato ba kuba mweka w kasai",
         "1776",
         "1901",
         "0",
         null,
         "There is no historical record of a formal written constitution or codified set of governing rules for the polity known as \"a dato ba kuba mweka w kasai\" during the period 1776-1901. This region, located in Central Africa, was characterized by customary and traditional governance structures rather than a formal constitutional framework. European colonial powers, particularly during the late 19th century, imposed colonial administrations rather than constitutional systems, and prior to colonization, governance was based on customary laws and practices."
        ],
        [
         "12",
         "a khandapara",
         "1861",
         "1946",
         "0",
         null,
         "During the period from 1861 to 1946, \"a khandapara\" was a local administrative unit in India, which was under British colonial rule. It did not have a constitution of its own; instead, governance was based on colonial laws, regulations, and administrative orders. There was no formal, codified constitution establishing governance rules for a khandapara as an autonomous political entity during this period."
        ],
        [
         "13",
         "aargau",
         "1798",
         "2019",
         "1",
         "Federal Constitution of the Swiss Confederation (1848) and subsequent revisions",
         "Aargau, as a canton within Switzerland, has been governed under the Swiss federal constitution since 1848, which established the federal state and set out the fundamental rules for governance. Prior to 1848, the region was part of various confederations and had local laws, but no unified constitution for the canton itself. The Swiss federal constitution is a comprehensive constitutional document that has been amended multiple times, including during the period 1798–2019. Therefore, during its existence from 1798 to 2019, Aargau was governed under a constitutional framework, specifically the Swiss federal constitution from 1848 onward."
        ],
        [
         "14",
         "abasgia",
         "780",
         "1861",
         "0",
         null,
         "There is no historical record of a formal, written constitution or codified set of governing rules for Abkhazia during the period from 780 to 1861. The region was characterized by customary laws and local governance structures rather than a centralized constitutional document."
        ],
        [
         "15",
         "abathembu",
         "1756",
         "2006",
         "0",
         null,
         "The AbaThembu, a Bantu kingdom in what is now South Africa, did not have a formal written constitution during its existence from 1756 to 2006. The governance was based on customary laws, traditional leadership, and oral traditions rather than a codified constitutional document. While the region was incorporated into South Africa and subject to its constitutional framework after colonial and apartheid periods, the Thembu monarchy itself did not adopt a formal constitution as a sovereign entity."
        ],
        [
         "16",
         "abathembu baserhoda",
         "1865",
         "2010",
         "0",
         null,
         "The Abathembu Baserhoda was a traditional community and did not have a formal written constitution during its existence from 1865 to 2010. While it likely had customary laws and traditional governance structures, these do not constitute a formal constitution as defined by written legal documents setting out governance rules."
        ],
        [
         "17",
         "abbey of st.gall",
         "1696",
         "1802",
         "0",
         null,
         "The Abbey of Saint Gall was a religious and territorial entity governed primarily by ecclesiastical and monastic rules rather than a formal, codified constitution. During its existence from 1696 to 1802, it operated under a medieval and early modern ecclesiastical governance structure, which did not constitute a constitution in the modern sense."
        ],
        [
         "18",
         "abeokuta",
         "1829",
         "2005",
         "0",
         null,
         "Abeokuta was a prominent Yoruba city-state and later a British protectorate, but it did not have a formal, codified constitution during its existence from 1829 to 2005. The governance structures were based on customary laws, traditional leadership, and colonial administrative frameworks, none of which constituted a written constitution setting out comprehensive rules for governance. The modern Nigerian state, which includes Abeokuta, adopted its first federal constitution in 1960, but this was after the period in question."
        ],
        [
         "19",
         "abkhazia",
         "1440",
         "2018",
         "0",
         null,
         "During the period from 1440 to 2018, Abkhazia was not an independent state with a formal constitution. It was part of various larger political entities, including the Kingdom of Georgia, the Russian Empire, and the Soviet Union, none of which had a constitution specifically governing Abkhazia as a separate entity. Following the dissolution of the Soviet Union, Abkhazia declared independence in the early 1990s, but it has not adopted a formal, comprehensive constitution recognized internationally. Instead, it has operated under various legal frameworks and declarations, but these do not constitute a formal constitution in the strict sense."
        ],
        [
         "20",
         "abu dhabi",
         "1761",
         "2014",
         "1",
         "Constitution of the United Arab Emirates (UAE)",
         "Abu Dhabi is one of the emirates of the United Arab Emirates, which was established as a federal state in 1971. The UAE adopted its first federal constitution in 1971, which has been amended over time. Prior to 1971, Abu Dhabi was an autonomous sheikhdom with customary laws and local governance structures but no formal written constitution. From 1971 onward, the federal constitution provided a legal framework for governance, and Abu Dhabi's status as part of the federation was constitutionally recognized. Therefore, during the period from 1971 to 2014, a formal constitution existed."
        ],
        [
         "21",
         "abuja",
         "1804",
         "2000",
         "0",
         null,
         "Abuja is a city and not a sovereign polity; it is the capital of Nigeria. Nigeria, as a nation, has had multiple constitutions during its history, but Abuja itself did not have a separate constitution. Therefore, the question about Abuja having a constitution during 1804-2000 is not applicable."
        ],
        [
         "22",
         "abyei area administration",
         "2008",
         "2018",
         "0",
         null,
         "The Abyei Area Administration is a special administrative region that is governed by agreements between Sudan and South Sudan, notably the Abyei Protocol of the Comprehensive Peace Agreement (2005). It does not have a formal, codified constitution but operates under a set of agreements, protocols, and administrative arrangements rather than a constitutionally enshrined legal framework. Therefore, during 2008-2018, it did not have a constitution in the formal sense."
        ],
        [
         "23",
         "abyei_area_administration",
         "2008",
         "2018",
         "0",
         null,
         "The Abyei Area Administration is a regional administrative entity within South Sudan, which declared independence in 2011. During its period of existence from 2008 to 2018, South Sudan adopted its own constitution in 2011, which established the legal framework for governance. However, the Abyei Area Administration itself did not have a separate, distinct constitution; it operated under the broader legal and constitutional framework of South Sudan. Prior to South Sudan's independence, the region was governed as part of Sudan, which had its own constitution. Therefore, the Abyei Area Administration did not have its own constitution during this period."
        ],
        [
         "24",
         "aceh empire",
         "1514",
         "1903",
         "0",
         null,
         "The Aceh Empire, during its existence from 1514 to 1903, was governed by customary laws, sultanic decrees, and Islamic principles rather than a formal written constitution. While it had a structured political and legal system, there is no evidence of a codified constitutional document that set forth the rules of governance, the rights of citizens, or the scope of authority in the manner of a modern constitution."
        ],
        [
         "25",
         "achaea",
         "1205",
         "1406",
         "0",
         null,
         "During the period from 1205 to 1406, Achaea was a principality within the Frankish states established after the Fourth Crusade. It was governed primarily through a feudal system and customary laws rather than a formal written constitution. While it had a set of legal customs and agreements, there is no evidence of a codified constitution or a formal constitutional document establishing the fundamental rules of governance during this period."
        ],
        [
         "26",
         "achaemenid empire",
         "-558",
         "-330",
         "0",
         null,
         "The Achaemenid Empire, existing from approximately 558 BCE to 330 BCE, did not have a written constitution in the modern sense. Its governance was based on a complex system of imperial administration, royal decrees, and customary laws, but there is no evidence of a codified constitutional document that set forth rules for governance, rights, or the selection and limitations of rulers during this period."
        ],
        [
         "27",
         "achaemenid kingdom",
         "-705",
         "-559",
         "0",
         null,
         "The Achaemenid Kingdom, existing from approximately 705 BCE to 559 BCE, did not have a written constitution in the modern sense. Its governance was based on customary laws, royal decrees, and the authority of the king, rather than a codified set of constitutional rules. While the Achaemenid rulers issued decrees and had a structured administrative system, there is no evidence of a formal, written constitution establishing the fundamental principles of governance during this period."
        ],
        [
         "28",
         "adal",
         "1474",
         "1526",
         "0",
         null,
         "The Adal Sultanate, during its period from 1474 to 1526, was governed by customary laws, sultanic decrees, and Islamic principles rather than a formal written constitution. There is no historical record of a codified constitution or a formal set of governing rules that explicitly defined the structure of government, rights, and limitations in a manner comparable to modern constitutions."
        ],
        [
         "29",
         "adamawa",
         "1809",
         "2010",
         "1",
         "Constitution of Nigeria (1999)",
         "Adamawa is a region within Nigeria, which has had multiple constitutions during its history. Nigeria's first constitution was in 1960, followed by several others, with the current constitution enacted in 1999. Given the period from 1809 to 2010, Nigeria had a series of constitutions, including the 1999 Constitution, which is the current legal framework. Therefore, during this period, Nigeria, and by extension Adamawa as part of Nigeria, had a constitution in force from 1999 onward."
        ],
        [
         "30",
         "adamawa ct yola",
         "1991",
         "1996",
         "0",
         null,
         "During the period of 1991 to 1996, Adamawa State (including the Yola region) was governed under Nigeria's national legal framework, which had a series of constitutions, but there was no specific constitution or constitutional document unique to Adamawa State or the Yola region itself. Nigeria's 1979 Constitution was in force during this period, but it was a national constitution, not a regional or state-level constitution. Therefore, the polity of Adamawa State did not have a separate constitution during this period."
        ],
        [
         "31",
         "adana e",
         "1378",
         "1608",
         "0",
         null,
         "During the period from 1378 to 1608, the region of Adana was part of the Ottoman Empire. The Ottomans did not have a formal, codified constitution in the modern sense; instead, they relied on a combination of imperial edicts, kanun (laws), and customary practices. The Ottoman legal system was based on the Sultan's decrees and Islamic law, but there was no single, written constitution establishing the fundamental rules of governance during this period."
        ],
        [
         "32",
         "adelshofen",
         "1690",
         "1757",
         "0",
         null,
         "There is no historical record of a formal written constitution or codified set of governing rules for Adelshofen during the period 1690-1757. As a small or lesser-known polity from this era, it is unlikely to have had a formal constitution, and governance was probably based on customary laws or local statutes rather than a codified constitutional document."
        ],
        [
         "33",
         "aden (pre-colonial)",
         "1040",
         "1175",
         "0",
         null,
         "During the pre-colonial period of Aden (1040-1175), there is no historical evidence of a formal written constitution or codified set of governing rules. Governance was likely based on customary laws, tribal structures, and oral traditions rather than a formal constitutional document."
        ],
        [
         "34",
         "adendorf",
         "1554",
         "1814",
         "0",
         null,
         "There is no historical record of a formal, written constitution or codified set of governing rules for the polity of Adendorf during the period 1554–1814. As a small or lesser-known entity, it is unlikely that it had a constitution in the modern sense; instead, governance was probably based on customary laws, local charters, or feudal arrangements, which do not qualify as constitutions under the criteria specified."
        ],
        [
         "35",
         "adiabene",
         "30",
         "58",
         "0",
         null,
         "During the period of 30 to 58 CE, Adiabene was a semi-autonomous client kingdom under the Parthian Empire. There is no historical evidence of a formal written constitution or codified set of governing rules specific to Adiabene during this time. Its governance was likely based on local customs, royal authority, and possibly decrees, but these do not constitute a constitution as defined by a formal, codified set of governing rules."
        ],
        [
         "36",
         "ado-ekiti",
         "1902",
         "1990",
         "0",
         null,
         "During the period from 1902 to 1990, Ado-Ekiti was a part of Nigeria, which was a British colony until 1960 and then became an independent nation. Nigeria's first formal constitution was the 1960 Independence Constitution, followed by subsequent constitutions in 1963, 1966, 1979, and 1999. Prior to independence, the colonial administration was governed by indirect rule and colonial statutes, which did not constitute a national constitution for Ado-Ekiti itself. Therefore, Ado-Ekiti did not have a distinct constitution during this period; governance was based on colonial and later national constitutional frameworks."
        ],
        [
         "37",
         "ado-odo",
         "1902",
         "2008",
         "0",
         null,
         "There is no record of a formal, codified constitution for the polity known as ado-odo during its existence from 1902 to 2008. The region was historically governed through customary laws, local chieftaincy arrangements, and later, administrative laws, but it did not have a written or codified constitution establishing the fundamental rules of governance during this period."
        ],
        [
         "38",
         "ado-odo (2)",
         "1680",
         "2009",
         "0",
         null,
         "There is no record of a formal, codified constitution for the polity known as ado-odo during the period from 1680 to 2009. Historically, this region was characterized by customary laws, traditional governance structures, and colonial influences rather than a single, written constitution. Although there may have been legal frameworks and customary rules, these do not meet the criteria of a formal constitution setting out governance rules in a codified manner."
        ],
        [
         "39",
         "adrar",
         "1828",
         "1932",
         "0",
         null,
         "Adrar, during the period from 1828 to 1932, was a region in what is now modern-day Algeria. It was part of the French colonial empire and did not have its own constitution. Instead, it was governed under French colonial laws and administrative structures, which did not constitute a separate constitution for Adrar itself."
        ],
        [
         "40",
         "aegina",
         "1311",
         "1460",
         "0",
         null,
         "Aegina, during the period 1311–1460, was a small island city-state in medieval Greece. There is no historical record of a formal written constitution or codified set of governing rules during this period. Its governance was typically based on local customs, aristocratic rule, and informal arrangements rather than a constitutionally codified legal framework."
        ],
        [
         "41",
         "aegion",
         "-316",
         "-288",
         "0",
         null,
         "There is no historical record of a formal written constitution or codified set of governing rules for Aegion during the period from 316 BCE to 288 BCE. As an ancient city-state, it likely operated under customary laws, oligarchic or monarchic traditions, and unwritten norms rather than a formal constitution."
        ],
        [
         "42",
         "aetolia",
         "-221",
         "1448",
         "0",
         null,
         "Aetolia was an ancient Greek region and polity that existed from classical antiquity through the Hellenistic period and into the medieval era. During its early history, it was governed by a series of customary laws, alliances, and oligarchic structures rather than a formal written constitution. There is no evidence of a codified constitution or a single constitutional document during its long period of existence from 221 BCE to 1448 CE."
        ],
        [
         "43",
         "afghanistan",
         "1796",
         "2014",
         "1",
         "Constitution of 2004 (also known as the Afghan Constitution of 2004)",
         "Afghanistan has had multiple constitutions throughout its history. During the period from 1796 to 2014, the most significant and formally codified constitution was adopted in 2004, following the fall of the Taliban regime and the establishment of a new government. This constitution established a constitutional framework for governance, including the separation of powers, rights, and electoral processes. Prior to 2004, Afghanistan had various legal codes and declarations, but these did not constitute comprehensive constitutions in the modern sense. Therefore, during the specified period, Afghanistan had a constitution, specifically the 2004 Constitution."
        ],
        [
         "44",
         "afyon",
         "1271",
         "1341",
         "0",
         null,
         "During the period of 1271 to 1341, Afyon was part of the Seljuk Sultanate of Rum, which was governed by customary law, sultanic decrees, and Islamic legal principles rather than a formal written constitution. There is no historical record of a codified constitution or a constitutional document establishing a formal constitutional framework during this time."
        ],
        [
         "45",
         "agaie",
         "1822",
         "2014",
         "0",
         null,
         "Agaie was a traditional emirate and a princely state in what is now Nigeria. It did not have a written constitution during its period of existence; instead, it was governed by customary laws, traditional authority, and local governance structures. Nigeria's modern constitutional framework was established after independence in 1960, but Agaie itself did not have a formal, codified constitution governing its internal affairs during the period 1822-2014."
        ],
        [
         "46",
         "agbanankin (hulagbÃªkon)",
         "1540",
         "1990",
         "0",
         null,
         "The polity of Agbanankin (Hulagbêkon), located in what is now Benin, did not have a formal written constitution during its existence from 1540 to 1990. Historically, this region was governed by customary laws, traditional authority structures, and oral traditions rather than a codified constitutional document. While there may have been customary rules and governance practices, these do not constitute a formal constitution as defined by written legal codes setting out governance structures and citizen rights."
        ],
        [
         "47",
         "agebede",
         "1880",
         "1960",
         "0",
         null,
         "There is no historical record of a formal, written constitution or constitutional framework for the polity of Agebede during the period 1880-1960. The region was not recognized as an independent state with a codified constitution; it was primarily a traditional society without a formal constitutional document establishing governance rules."
        ],
        [
         "48",
         "agrinio",
         "1358",
         "1381",
         "0",
         null,
         "Agrinio, during the period 1358-1381, was a small town in medieval Greece, part of the Despotate of Epirus and later under various local and regional rulers. There is no historical record of a formal written constitution or codified set of governing rules during this period. Governance was typically based on customary law, local lordship, and feudal arrangements rather than a constitution."
        ],
        [
         "49",
         "agwania aghuwania gardman parisos",
         "630",
         "821",
         "0",
         null,
         "There are no historical records or evidence indicating that the polity of agwania aghuwania gardman parisos had a formal written constitution during its existence from 630 to 821. Given the period and the region, governance was likely based on customary laws, oral traditions, or customary practices rather than a codified constitution."
        ]
       ],
       "shape": {
        "columns": 6,
        "rows": 100
       }
      },
      "text/html": [
       "<div>\n",
       "<style scoped>\n",
       "    .dataframe tbody tr th:only-of-type {\n",
       "        vertical-align: middle;\n",
       "    }\n",
       "\n",
       "    .dataframe tbody tr th {\n",
       "        vertical-align: top;\n",
       "    }\n",
       "\n",
       "    .dataframe thead th {\n",
       "        text-align: right;\n",
       "    }\n",
       "</style>\n",
       "<table border=\"1\" class=\"dataframe\">\n",
       "  <thead>\n",
       "    <tr style=\"text-align: right;\">\n",
       "      <th></th>\n",
       "      <th>territorynamehistorical</th>\n",
       "      <th>start_year</th>\n",
       "      <th>end_year</th>\n",
       "      <th>constitution_gpt_4_1_nano</th>\n",
       "      <th>constitution_name_gpt_4_1_nano</th>\n",
       "      <th>explanation_gpt_4_1_nano</th>\n",
       "    </tr>\n",
       "  </thead>\n",
       "  <tbody>\n",
       "    <tr>\n",
       "      <th>0</th>\n",
       "      <td>NaN</td>\n",
       "      <td>-2490</td>\n",
       "      <td>2019</td>\n",
       "      <td>0</td>\n",
       "      <td>NaN</td>\n",
       "      <td>The given period begins in 2490 BCE, well befo...</td>\n",
       "    </tr>\n",
       "    <tr>\n",
       "      <th>1</th>\n",
       "      <td>!aman (bethany)</td>\n",
       "      <td>1804</td>\n",
       "      <td>2018</td>\n",
       "      <td>0</td>\n",
       "      <td>NaN</td>\n",
       "      <td>Bethany (or !aman) was a biblical city-state a...</td>\n",
       "    </tr>\n",
       "    <tr>\n",
       "      <th>2</th>\n",
       "      <td>!gami-nun ('bondelswarts')</td>\n",
       "      <td>1869</td>\n",
       "      <td>1977</td>\n",
       "      <td>0</td>\n",
       "      <td>NaN</td>\n",
       "      <td>The Bondelswarts, a Nama-speaking indigenous g...</td>\n",
       "    </tr>\n",
       "    <tr>\n",
       "      <th>3</th>\n",
       "      <td>'uvea</td>\n",
       "      <td>1400</td>\n",
       "      <td>1660</td>\n",
       "      <td>0</td>\n",
       "      <td>NaN</td>\n",
       "      <td>During the period from 1400 to 1660, Uvea (als...</td>\n",
       "    </tr>\n",
       "    <tr>\n",
       "      <th>4</th>\n",
       "      <td>(medieval) ghana</td>\n",
       "      <td>1040</td>\n",
       "      <td>1234</td>\n",
       "      <td>0</td>\n",
       "      <td>NaN</td>\n",
       "      <td>During the medieval period, the Ghana Empire (...</td>\n",
       "    </tr>\n",
       "    <tr>\n",
       "      <th>...</th>\n",
       "      <td>...</td>\n",
       "      <td>...</td>\n",
       "      <td>...</td>\n",
       "      <td>...</td>\n",
       "      <td>...</td>\n",
       "      <td>...</td>\n",
       "    </tr>\n",
       "    <tr>\n",
       "      <th>95</th>\n",
       "      <td>aland islands</td>\n",
       "      <td>1881</td>\n",
       "      <td>1999</td>\n",
       "      <td>1</td>\n",
       "      <td>The Constitution of Åland (Autonomy Act of 192...</td>\n",
       "      <td>The Åland Islands, an autonomous and demilitar...</td>\n",
       "    </tr>\n",
       "    <tr>\n",
       "      <th>96</th>\n",
       "      <td>alava</td>\n",
       "      <td>829</td>\n",
       "      <td>1332</td>\n",
       "      <td>0</td>\n",
       "      <td>NaN</td>\n",
       "      <td>During the period from 829 to 1332, Alava was ...</td>\n",
       "    </tr>\n",
       "    <tr>\n",
       "      <th>97</th>\n",
       "      <td>alba</td>\n",
       "      <td>901</td>\n",
       "      <td>1004</td>\n",
       "      <td>0</td>\n",
       "      <td>NaN</td>\n",
       "      <td>During the early medieval period, the polity o...</td>\n",
       "    </tr>\n",
       "    <tr>\n",
       "      <th>98</th>\n",
       "      <td>albania</td>\n",
       "      <td>1198</td>\n",
       "      <td>2017</td>\n",
       "      <td>1</td>\n",
       "      <td>Constitution of Albania (post-1998)</td>\n",
       "      <td>Albania has had a series of constitutions, wit...</td>\n",
       "    </tr>\n",
       "    <tr>\n",
       "      <th>99</th>\n",
       "      <td>alclud cumbria strathclyde</td>\n",
       "      <td>559</td>\n",
       "      <td>889</td>\n",
       "      <td>0</td>\n",
       "      <td>NaN</td>\n",
       "      <td>During the period 559-889, the polity of Alclu...</td>\n",
       "    </tr>\n",
       "  </tbody>\n",
       "</table>\n",
       "<p>100 rows × 6 columns</p>\n",
       "</div>"
      ],
      "text/plain": [
       "       territorynamehistorical  start_year  end_year  \\\n",
       "0                          NaN       -2490      2019   \n",
       "1              !aman (bethany)        1804      2018   \n",
       "2   !gami-nun ('bondelswarts')        1869      1977   \n",
       "3                        'uvea        1400      1660   \n",
       "4             (medieval) ghana        1040      1234   \n",
       "..                         ...         ...       ...   \n",
       "95               aland islands        1881      1999   \n",
       "96                       alava         829      1332   \n",
       "97                        alba         901      1004   \n",
       "98                     albania        1198      2017   \n",
       "99  alclud cumbria strathclyde         559       889   \n",
       "\n",
       "    constitution_gpt_4_1_nano  \\\n",
       "0                           0   \n",
       "1                           0   \n",
       "2                           0   \n",
       "3                           0   \n",
       "4                           0   \n",
       "..                        ...   \n",
       "95                          1   \n",
       "96                          0   \n",
       "97                          0   \n",
       "98                          1   \n",
       "99                          0   \n",
       "\n",
       "                       constitution_name_gpt_4_1_nano  \\\n",
       "0                                                 NaN   \n",
       "1                                                 NaN   \n",
       "2                                                 NaN   \n",
       "3                                                 NaN   \n",
       "4                                                 NaN   \n",
       "..                                                ...   \n",
       "95  The Constitution of Åland (Autonomy Act of 192...   \n",
       "96                                                NaN   \n",
       "97                                                NaN   \n",
       "98                Constitution of Albania (post-1998)   \n",
       "99                                                NaN   \n",
       "\n",
       "                             explanation_gpt_4_1_nano  \n",
       "0   The given period begins in 2490 BCE, well befo...  \n",
       "1   Bethany (or !aman) was a biblical city-state a...  \n",
       "2   The Bondelswarts, a Nama-speaking indigenous g...  \n",
       "3   During the period from 1400 to 1660, Uvea (als...  \n",
       "4   During the medieval period, the Ghana Empire (...  \n",
       "..                                                ...  \n",
       "95  The Åland Islands, an autonomous and demilitar...  \n",
       "96  During the period from 829 to 1332, Alava was ...  \n",
       "97  During the early medieval period, the polity o...  \n",
       "98  Albania has had a series of constitutions, wit...  \n",
       "99  During the period 559-889, the polity of Alclu...  \n",
       "\n",
       "[100 rows x 6 columns]"
      ]
     },
     "execution_count": 3,
     "metadata": {},
     "output_type": "execute_result"
    }
   ],
   "source": [
    "# I test the dataset with 1000 rows\n",
    "result = pd.read_csv('./Dataset/llm_predictions.csv')\n",
    "result.head(100)"
   ]
  }
 ],
 "metadata": {
  "kernelspec": {
   "display_name": "constitution_llm",
   "language": "python",
   "name": "python3"
  },
  "language_info": {
   "codemirror_mode": {
    "name": "ipython",
    "version": 3
   },
   "file_extension": ".py",
   "mimetype": "text/x-python",
   "name": "python",
   "nbconvert_exporter": "python",
   "pygments_lexer": "ipython3",
   "version": "3.12.11"
  }
 },
 "nbformat": 4,
 "nbformat_minor": 5
}
